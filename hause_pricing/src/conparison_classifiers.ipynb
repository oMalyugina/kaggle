{
 "cells": [
  {
   "cell_type": "code",
   "execution_count": 1,
   "metadata": {},
   "outputs": [
    {
     "name": "stderr",
     "output_type": "stream",
     "text": [
      "/home/olga/anaconda3/lib/python3.6/site-packages/sklearn/ensemble/weight_boosting.py:29: DeprecationWarning: numpy.core.umath_tests is an internal NumPy module and should not be imported. It will be removed in a future NumPy release.\n",
      "  from numpy.core.umath_tests import inner1d\n"
     ]
    }
   ],
   "source": [
    "import pandas as pd\n",
    "import numpy as np\n",
    "from sklearn.preprocessing import LabelEncoder, StandardScaler, RobustScaler\n",
    "from sklearn.model_selection import cross_val_score\n",
    "from sklearn.linear_model import LinearRegression, Lasso, Ridge\n",
    "from sklearn.tree import DecisionTreeRegressor\n",
    "from sklearn.neighbors import KNeighborsRegressor\n",
    "from sklearn.ensemble import RandomForestRegressor\n",
    "import matplotlib.pyplot as plt\n",
    "\n",
    "%matplotlib inline"
   ]
  },
  {
   "cell_type": "markdown",
   "metadata": {},
   "source": [
    "Preprocessing"
   ]
  },
  {
   "cell_type": "code",
   "execution_count": 12,
   "metadata": {},
   "outputs": [
    {
     "data": {
      "text/plain": [
       "(1460, 81)"
      ]
     },
     "execution_count": 12,
     "metadata": {},
     "output_type": "execute_result"
    }
   ],
   "source": [
    "train = pd.read_csv(\"../data/train.csv\")\n",
    "train.shape"
   ]
  },
  {
   "cell_type": "code",
   "execution_count": 13,
   "metadata": {
    "collapsed": true
   },
   "outputs": [],
   "source": [
    "encoders = {}\n",
    "for var_name in train.select_dtypes(include=['object']):\n",
    "    labelencoder_X = LabelEncoder()\n",
    "    train[var_name] = labelencoder_X.fit_transform(train[var_name].astype(str))\n",
    "    encoders[var_name] = labelencoder_X"
   ]
  },
  {
   "cell_type": "code",
   "execution_count": 14,
   "metadata": {
    "collapsed": true
   },
   "outputs": [],
   "source": [
    "train = train.fillna(-1)"
   ]
  },
  {
   "cell_type": "code",
   "execution_count": 21,
   "metadata": {
    "collapsed": true
   },
   "outputs": [],
   "source": [
    "# scaler = StandardScaler()\n",
    "scaler = RobustScaler()\n",
    "scaled_df = scaler.fit_transform(train)"
   ]
  },
  {
   "cell_type": "code",
   "execution_count": 22,
   "metadata": {},
   "outputs": [
    {
     "data": {
      "text/plain": [
       "((1460,), (1460, 80))"
      ]
     },
     "execution_count": 22,
     "metadata": {},
     "output_type": "execute_result"
    }
   ],
   "source": [
    "X = scaled_df[:, :-1]\n",
    "y = scaled_df[:, -1]\n",
    "y.shape, X.shape\n",
    "\n",
    "# X = train.loc[:, train.columns != 'SalePrice'].values\n",
    "# y = train['SalePrice'].values\n",
    "# y.shape, X.shape"
   ]
  },
  {
   "cell_type": "markdown",
   "metadata": {},
   "source": [
    "Training"
   ]
  },
  {
   "cell_type": "code",
   "execution_count": 23,
   "metadata": {
    "collapsed": true
   },
   "outputs": [],
   "source": [
    "scores = {}"
   ]
  },
  {
   "cell_type": "code",
   "execution_count": 24,
   "metadata": {},
   "outputs": [],
   "source": [
    "reg = Ridge()\n",
    "scores[\"Ridge\"] = cross_val_score(reg, X, y, cv=10)\n",
    "\n",
    "reg = LinearRegression()\n",
    "scores[\"LinearRegression\"] = cross_val_score(reg, X, y, cv=10)\n",
    "\n",
    "reg = Lasso()\n",
    "scores[\"Lasso\"] = cross_val_score(reg, X, y, cv=10)\n",
    "\n",
    "reg = DecisionTreeRegressor()\n",
    "scores[\"DecisionTreeRegressor\"] = cross_val_score(reg, X, y, cv=10)\n",
    "\n",
    "reg = RandomForestRegressor()\n",
    "scores[\"RandomForestRegressor\"] = cross_val_score(reg, X, y, cv=10)\n",
    "\n",
    "reg = KNeighborsRegressor()\n",
    "scores[\"KNeighborsRegressor\"] = cross_val_score(reg, X, y, cv=10)"
   ]
  },
  {
   "cell_type": "code",
   "execution_count": 25,
   "metadata": {},
   "outputs": [
    {
     "name": "stdout",
     "output_type": "stream",
     "text": [
      "Ridge 0.8096307034729604 0.11548649785375396\n",
      "LinearRegression 0.8023537244759822 0.11967470503525683\n",
      "Lasso 0.06774785103386968 0.028103617925734674\n",
      "DecisionTreeRegressor 0.731016005832454 0.10354443996048217\n",
      "RandomForestRegressor 0.8435923018631281 0.04942239126617921\n",
      "KNeighborsRegressor 0.5700978483066957 0.09215124001943209\n"
     ]
    }
   ],
   "source": [
    "for classifier in scores:\n",
    "    print(classifier, np.mean(scores[classifier]), np.std(scores[classifier]))"
   ]
  },
  {
   "cell_type": "code",
   "execution_count": 26,
   "metadata": {},
   "outputs": [
    {
     "data": {
      "image/png": "[encoded data removed]",
      "text/plain": [
       "<Figure size 432x288 with 1 Axes>"
      ]
     },
     "metadata": {},
     "output_type": "display_data"
    }
   ],
   "source": [
    "results = [scores[key] for key in scores]\n",
    "names = [key for key in scores]\n",
    "\n",
    "plt.boxplot(results, vert=0,labels=names)\n",
    "plt.show()"
   ]
  },
  {
   "cell_type": "code",
   "execution_count": 27,
   "metadata": {},
   "outputs": [
    {
     "data": {
      "image/png": "[encoded data removed]",
      "text/plain": [
       "<Figure size 432x288 with 1 Axes>"
      ]
     },
     "metadata": {},
     "output_type": "display_data"
    }
   ],
   "source": [
    "for classifier in scores:\n",
    "    plt.plot(scores[classifier], '.', label=classifier)\n",
    "    plt.legend()\n"
   ]
  }
 ],
 "metadata": {
  "kernelspec": {
   "display_name": "Python 3",
   "language": "python",
   "name": "python3"
  },
  "language_info": {
   "codemirror_mode": {
    "name": "ipython",
    "version": 3
   },
   "file_extension": ".py",
   "mimetype": "text/x-python",
   "name": "python",
   "nbconvert_exporter": "python",
   "pygments_lexer": "ipython3",
   "version": "3.6.3"
  }
 },
 "nbformat": 4,
 "nbformat_minor": 2
}
