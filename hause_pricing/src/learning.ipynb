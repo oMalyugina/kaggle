{
 "cells": [
  {
   "cell_type": "code",
   "execution_count": 5,
   "metadata": {
    "collapsed": true
   },
   "outputs": [],
   "source": [
    "import pandas as pd\n",
    "import numpy as np\n",
    "from sklearn.preprocessing import LabelEncoder, StandardScaler\n",
    "import matplotlib.pyplot as plt\n",
    "\n",
    "%matplotlib inline"
   ]
  },
  {
   "cell_type": "code",
   "execution_count": 19,
   "metadata": {},
   "outputs": [
    {
     "data": {
      "text/plain": [
       "(1460, 81)"
      ]
     },
     "execution_count": 19,
     "metadata": {},
     "output_type": "execute_result"
    }
   ],
   "source": [
    "train = pd.read_csv(\"../data/train.csv\")\n",
    "train.shape"
   ]
  },
  {
   "cell_type": "code",
   "execution_count": 24,
   "metadata": {},
   "outputs": [
    {
     "data": {
      "text/html": [
       "<div>\n",
       "<style scoped>\n",
       "    .dataframe tbody tr th:only-of-type {\n",
       "        vertical-align: middle;\n",
       "    }\n",
       "\n",
       "    .dataframe tbody tr th {\n",
       "        vertical-align: top;\n",
       "    }\n",
       "\n",
       "    .dataframe thead th {\n",
       "        text-align: right;\n",
       "    }\n",
       "</style>\n",
       "<table border=\"1\" class=\"dataframe\">\n",
       "  <thead>\n",
       "    <tr style=\"text-align: right;\">\n",
       "      <th></th>\n",
       "      <th>Id</th>\n",
       "      <th>MSSubClass</th>\n",
       "      <th>MSZoning</th>\n",
       "      <th>LotFrontage</th>\n",
       "      <th>LotArea</th>\n",
       "      <th>Street</th>\n",
       "      <th>Alley</th>\n",
       "      <th>LotShape</th>\n",
       "      <th>LandContour</th>\n",
       "      <th>Utilities</th>\n",
       "      <th>...</th>\n",
       "      <th>PoolArea</th>\n",
       "      <th>PoolQC</th>\n",
       "      <th>Fence</th>\n",
       "      <th>MiscFeature</th>\n",
       "      <th>MiscVal</th>\n",
       "      <th>MoSold</th>\n",
       "      <th>YrSold</th>\n",
       "      <th>SaleType</th>\n",
       "      <th>SaleCondition</th>\n",
       "      <th>SalePrice</th>\n",
       "    </tr>\n",
       "  </thead>\n",
       "  <tbody>\n",
       "    <tr>\n",
       "      <td>0</td>\n",
       "      <td>1</td>\n",
       "      <td>60</td>\n",
       "      <td>3</td>\n",
       "      <td>65.0</td>\n",
       "      <td>8450</td>\n",
       "      <td>1</td>\n",
       "      <td>2</td>\n",
       "      <td>3</td>\n",
       "      <td>3</td>\n",
       "      <td>0</td>\n",
       "      <td>...</td>\n",
       "      <td>0</td>\n",
       "      <td>3</td>\n",
       "      <td>4</td>\n",
       "      <td>4</td>\n",
       "      <td>0</td>\n",
       "      <td>2</td>\n",
       "      <td>2008</td>\n",
       "      <td>8</td>\n",
       "      <td>4</td>\n",
       "      <td>208500</td>\n",
       "    </tr>\n",
       "    <tr>\n",
       "      <td>1</td>\n",
       "      <td>2</td>\n",
       "      <td>20</td>\n",
       "      <td>3</td>\n",
       "      <td>80.0</td>\n",
       "      <td>9600</td>\n",
       "      <td>1</td>\n",
       "      <td>2</td>\n",
       "      <td>3</td>\n",
       "      <td>3</td>\n",
       "      <td>0</td>\n",
       "      <td>...</td>\n",
       "      <td>0</td>\n",
       "      <td>3</td>\n",
       "      <td>4</td>\n",
       "      <td>4</td>\n",
       "      <td>0</td>\n",
       "      <td>5</td>\n",
       "      <td>2007</td>\n",
       "      <td>8</td>\n",
       "      <td>4</td>\n",
       "      <td>181500</td>\n",
       "    </tr>\n",
       "    <tr>\n",
       "      <td>2</td>\n",
       "      <td>3</td>\n",
       "      <td>60</td>\n",
       "      <td>3</td>\n",
       "      <td>68.0</td>\n",
       "      <td>11250</td>\n",
       "      <td>1</td>\n",
       "      <td>2</td>\n",
       "      <td>0</td>\n",
       "      <td>3</td>\n",
       "      <td>0</td>\n",
       "      <td>...</td>\n",
       "      <td>0</td>\n",
       "      <td>3</td>\n",
       "      <td>4</td>\n",
       "      <td>4</td>\n",
       "      <td>0</td>\n",
       "      <td>9</td>\n",
       "      <td>2008</td>\n",
       "      <td>8</td>\n",
       "      <td>4</td>\n",
       "      <td>223500</td>\n",
       "    </tr>\n",
       "    <tr>\n",
       "      <td>3</td>\n",
       "      <td>4</td>\n",
       "      <td>70</td>\n",
       "      <td>3</td>\n",
       "      <td>60.0</td>\n",
       "      <td>9550</td>\n",
       "      <td>1</td>\n",
       "      <td>2</td>\n",
       "      <td>0</td>\n",
       "      <td>3</td>\n",
       "      <td>0</td>\n",
       "      <td>...</td>\n",
       "      <td>0</td>\n",
       "      <td>3</td>\n",
       "      <td>4</td>\n",
       "      <td>4</td>\n",
       "      <td>0</td>\n",
       "      <td>2</td>\n",
       "      <td>2006</td>\n",
       "      <td>8</td>\n",
       "      <td>0</td>\n",
       "      <td>140000</td>\n",
       "    </tr>\n",
       "    <tr>\n",
       "      <td>4</td>\n",
       "      <td>5</td>\n",
       "      <td>60</td>\n",
       "      <td>3</td>\n",
       "      <td>84.0</td>\n",
       "      <td>14260</td>\n",
       "      <td>1</td>\n",
       "      <td>2</td>\n",
       "      <td>0</td>\n",
       "      <td>3</td>\n",
       "      <td>0</td>\n",
       "      <td>...</td>\n",
       "      <td>0</td>\n",
       "      <td>3</td>\n",
       "      <td>4</td>\n",
       "      <td>4</td>\n",
       "      <td>0</td>\n",
       "      <td>12</td>\n",
       "      <td>2008</td>\n",
       "      <td>8</td>\n",
       "      <td>4</td>\n",
       "      <td>250000</td>\n",
       "    </tr>\n",
       "    <tr>\n",
       "      <td>...</td>\n",
       "      <td>...</td>\n",
       "      <td>...</td>\n",
       "      <td>...</td>\n",
       "      <td>...</td>\n",
       "      <td>...</td>\n",
       "      <td>...</td>\n",
       "      <td>...</td>\n",
       "      <td>...</td>\n",
       "      <td>...</td>\n",
       "      <td>...</td>\n",
       "      <td>...</td>\n",
       "      <td>...</td>\n",
       "      <td>...</td>\n",
       "      <td>...</td>\n",
       "      <td>...</td>\n",
       "      <td>...</td>\n",
       "      <td>...</td>\n",
       "      <td>...</td>\n",
       "      <td>...</td>\n",
       "      <td>...</td>\n",
       "      <td>...</td>\n",
       "    </tr>\n",
       "    <tr>\n",
       "      <td>1455</td>\n",
       "      <td>1456</td>\n",
       "      <td>60</td>\n",
       "      <td>3</td>\n",
       "      <td>62.0</td>\n",
       "      <td>7917</td>\n",
       "      <td>1</td>\n",
       "      <td>2</td>\n",
       "      <td>3</td>\n",
       "      <td>3</td>\n",
       "      <td>0</td>\n",
       "      <td>...</td>\n",
       "      <td>0</td>\n",
       "      <td>3</td>\n",
       "      <td>4</td>\n",
       "      <td>4</td>\n",
       "      <td>0</td>\n",
       "      <td>8</td>\n",
       "      <td>2007</td>\n",
       "      <td>8</td>\n",
       "      <td>4</td>\n",
       "      <td>175000</td>\n",
       "    </tr>\n",
       "    <tr>\n",
       "      <td>1456</td>\n",
       "      <td>1457</td>\n",
       "      <td>20</td>\n",
       "      <td>3</td>\n",
       "      <td>85.0</td>\n",
       "      <td>13175</td>\n",
       "      <td>1</td>\n",
       "      <td>2</td>\n",
       "      <td>3</td>\n",
       "      <td>3</td>\n",
       "      <td>0</td>\n",
       "      <td>...</td>\n",
       "      <td>0</td>\n",
       "      <td>3</td>\n",
       "      <td>2</td>\n",
       "      <td>4</td>\n",
       "      <td>0</td>\n",
       "      <td>2</td>\n",
       "      <td>2010</td>\n",
       "      <td>8</td>\n",
       "      <td>4</td>\n",
       "      <td>210000</td>\n",
       "    </tr>\n",
       "    <tr>\n",
       "      <td>1457</td>\n",
       "      <td>1458</td>\n",
       "      <td>70</td>\n",
       "      <td>3</td>\n",
       "      <td>66.0</td>\n",
       "      <td>9042</td>\n",
       "      <td>1</td>\n",
       "      <td>2</td>\n",
       "      <td>3</td>\n",
       "      <td>3</td>\n",
       "      <td>0</td>\n",
       "      <td>...</td>\n",
       "      <td>0</td>\n",
       "      <td>3</td>\n",
       "      <td>0</td>\n",
       "      <td>2</td>\n",
       "      <td>2500</td>\n",
       "      <td>5</td>\n",
       "      <td>2010</td>\n",
       "      <td>8</td>\n",
       "      <td>4</td>\n",
       "      <td>266500</td>\n",
       "    </tr>\n",
       "    <tr>\n",
       "      <td>1458</td>\n",
       "      <td>1459</td>\n",
       "      <td>20</td>\n",
       "      <td>3</td>\n",
       "      <td>68.0</td>\n",
       "      <td>9717</td>\n",
       "      <td>1</td>\n",
       "      <td>2</td>\n",
       "      <td>3</td>\n",
       "      <td>3</td>\n",
       "      <td>0</td>\n",
       "      <td>...</td>\n",
       "      <td>0</td>\n",
       "      <td>3</td>\n",
       "      <td>4</td>\n",
       "      <td>4</td>\n",
       "      <td>0</td>\n",
       "      <td>4</td>\n",
       "      <td>2010</td>\n",
       "      <td>8</td>\n",
       "      <td>4</td>\n",
       "      <td>142125</td>\n",
       "    </tr>\n",
       "    <tr>\n",
       "      <td>1459</td>\n",
       "      <td>1460</td>\n",
       "      <td>20</td>\n",
       "      <td>3</td>\n",
       "      <td>75.0</td>\n",
       "      <td>9937</td>\n",
       "      <td>1</td>\n",
       "      <td>2</td>\n",
       "      <td>3</td>\n",
       "      <td>3</td>\n",
       "      <td>0</td>\n",
       "      <td>...</td>\n",
       "      <td>0</td>\n",
       "      <td>3</td>\n",
       "      <td>4</td>\n",
       "      <td>4</td>\n",
       "      <td>0</td>\n",
       "      <td>6</td>\n",
       "      <td>2008</td>\n",
       "      <td>8</td>\n",
       "      <td>4</td>\n",
       "      <td>147500</td>\n",
       "    </tr>\n",
       "  </tbody>\n",
       "</table>\n",
       "<p>1460 rows × 81 columns</p>\n",
       "</div>"
      ],
      "text/plain": [
       "        Id  MSSubClass  MSZoning  LotFrontage  LotArea  Street  Alley  \\\n",
       "0        1          60         3         65.0     8450       1      2   \n",
       "1        2          20         3         80.0     9600       1      2   \n",
       "2        3          60         3         68.0    11250       1      2   \n",
       "3        4          70         3         60.0     9550       1      2   \n",
       "4        5          60         3         84.0    14260       1      2   \n",
       "...    ...         ...       ...          ...      ...     ...    ...   \n",
       "1455  1456          60         3         62.0     7917       1      2   \n",
       "1456  1457          20         3         85.0    13175       1      2   \n",
       "1457  1458          70         3         66.0     9042       1      2   \n",
       "1458  1459          20         3         68.0     9717       1      2   \n",
       "1459  1460          20         3         75.0     9937       1      2   \n",
       "\n",
       "      LotShape  LandContour  Utilities  ...  PoolArea  PoolQC  Fence  \\\n",
       "0            3            3          0  ...         0       3      4   \n",
       "1            3            3          0  ...         0       3      4   \n",
       "2            0            3          0  ...         0       3      4   \n",
       "3            0            3          0  ...         0       3      4   \n",
       "4            0            3          0  ...         0       3      4   \n",
       "...        ...          ...        ...  ...       ...     ...    ...   \n",
       "1455         3            3          0  ...         0       3      4   \n",
       "1456         3            3          0  ...         0       3      2   \n",
       "1457         3            3          0  ...         0       3      0   \n",
       "1458         3            3          0  ...         0       3      4   \n",
       "1459         3            3          0  ...         0       3      4   \n",
       "\n",
       "      MiscFeature  MiscVal  MoSold  YrSold  SaleType  SaleCondition  SalePrice  \n",
       "0               4        0       2    2008         8              4     208500  \n",
       "1               4        0       5    2007         8              4     181500  \n",
       "2               4        0       9    2008         8              4     223500  \n",
       "3               4        0       2    2006         8              0     140000  \n",
       "4               4        0      12    2008         8              4     250000  \n",
       "...           ...      ...     ...     ...       ...            ...        ...  \n",
       "1455            4        0       8    2007         8              4     175000  \n",
       "1456            4        0       2    2010         8              4     210000  \n",
       "1457            2     2500       5    2010         8              4     266500  \n",
       "1458            4        0       4    2010         8              4     142125  \n",
       "1459            4        0       6    2008         8              4     147500  \n",
       "\n",
       "[1460 rows x 81 columns]"
      ]
     },
     "execution_count": 24,
     "metadata": {},
     "output_type": "execute_result"
    }
   ],
   "source": [
    "train"
   ]
  },
  {
   "cell_type": "code",
   "execution_count": 21,
   "metadata": {},
   "outputs": [],
   "source": [
    "# wrong. cant save information about transformation!!!!\n",
    "\n",
    "labelencoder_X = LabelEncoder()\n",
    "for var_name in train.select_dtypes(include=['object']):\n",
    "    train[var_name] = labelencoder_X.fit_transform(train[var_name].astype(str))"
   ]
  },
  {
   "cell_type": "code",
   "execution_count": null,
   "metadata": {
    "collapsed": true
   },
   "outputs": [],
   "source": [
    "train.head()"
   ]
  },
  {
   "cell_type": "code",
   "execution_count": null,
   "metadata": {
    "collapsed": true
   },
   "outputs": [],
   "source": [
    "train.SalePrice.hist()\n",
    "print(min(train.SalePrice))"
   ]
  },
  {
   "cell_type": "code",
   "execution_count": null,
   "metadata": {
    "collapsed": true
   },
   "outputs": [],
   "source": [
    "train.SalePrice = train.SalePrice / 1000"
   ]
  },
  {
   "cell_type": "code",
   "execution_count": 22,
   "metadata": {},
   "outputs": [
    {
     "name": "stdout",
     "output_type": "stream",
     "text": [
      "True\n",
      "LotFrontage has NaN\n",
      "MasVnrArea has NaN\n",
      "GarageYrBlt has NaN\n"
     ]
    }
   ],
   "source": [
    "print(train.isnull().any().any())\n",
    "for name, res in zip(train.columns, train.isnull().any()):\n",
    "    if res == True:\n",
    "        print (\"{} has NaN\".format(name))"
   ]
  },
  {
   "cell_type": "code",
   "execution_count": 15,
   "metadata": {
    "collapsed": true
   },
   "outputs": [],
   "source": [
    "train = train.fillna(-1)"
   ]
  },
  {
   "cell_type": "code",
   "execution_count": 16,
   "metadata": {},
   "outputs": [],
   "source": [
    "scaler = StandardScaler()\n",
    "scaled_df = scaler.fit_transform(train)\n"
   ]
  },
  {
   "cell_type": "code",
   "execution_count": 23,
   "metadata": {},
   "outputs": [
    {
     "data": {
      "text/plain": [
       "(array([4.21465598e+02, 4.22860820e+01, 6.31800960e-01, 3.49482663e+01,\n",
       "        9.97784611e+03, 6.39742160e-02, 3.94641225e-01, 1.40867350e+00,\n",
       "        7.07423508e-01, 2.61622319e-02, 1.62207862e+00, 2.76137848e-01,\n",
       "        6.01167513e+00, 8.68217622e-01, 2.58951217e-01, 1.19786668e+00,\n",
       "        1.91065005e+00, 1.38252284e+00, 1.11241818e+00, 3.01925588e+01,\n",
       "        2.06383353e+01, 8.34711783e-01, 5.98921593e-01, 3.19656412e+00,\n",
       "        3.53935757e+00, 6.35673636e-01, 1.80672611e+02, 6.93756841e-01,\n",
       "        7.31556550e-01, 7.22146191e-01, 8.98917219e-01, 6.76294863e-01,\n",
       "        1.16526377e+00, 1.87376781e+00, 4.55941866e+02, 9.46388727e-01,\n",
       "        1.61264017e+02, 4.41715605e+02, 4.38555057e+02, 2.95022669e-01,\n",
       "        1.73892820e+00, 2.46646679e-01, 1.05147382e+00, 3.86455322e+02,\n",
       "        4.36378914e+02, 4.86064268e+01, 5.25300394e+02, 5.18732867e-01,\n",
       "        2.38670868e-01, 5.50727099e-01, 5.02713131e-01, 8.15498620e-01,\n",
       "        2.20262727e-01, 8.29876988e-01, 1.62483655e+00, 9.79323682e-01,\n",
       "        6.44445572e-01, 1.39847432e+00, 1.93254356e+00, 4.53770486e+02,\n",
       "        8.92525151e-01, 7.47059036e-01, 2.13731608e+02, 6.47600476e-01,\n",
       "        5.66637920e-01, 4.96421800e-01, 1.25295863e+02, 6.62333334e+01,\n",
       "        6.10982138e+01, 2.93072887e+01, 5.57383170e+01, 4.01635452e+01,\n",
       "        1.40654650e-01, 1.08254091e+00, 4.03965031e-01, 4.95953090e+02,\n",
       "        2.70270015e+00, 1.32764022e+00, 1.55156853e+00, 1.10047734e+00,\n",
       "        7.94152919e+04]),\n",
       " array([7.30500000e+02, 5.68972603e+01, 3.02876712e+00, 5.74458904e+01,\n",
       "        1.05168281e+04, 9.95890411e-01, 1.90342466e+00, 1.94246575e+00,\n",
       "        2.77739726e+00, 6.84931507e-04, 3.01917808e+00, 6.23287671e-02,\n",
       "        1.22513699e+01, 2.03150685e+00, 2.00821918e+00, 4.93150685e-01,\n",
       "        3.03835616e+00, 6.09931507e+00, 5.57534247e+00, 1.97126781e+03,\n",
       "        1.98486575e+03, 1.41027397e+00, 1.07534247e+00, 9.62465753e+00,\n",
       "        1.03397260e+01, 1.77328767e+00, 1.03111644e+02, 2.53972603e+00,\n",
       "        3.73356164e+00, 1.39657534e+00, 2.30547945e+00, 2.84246575e+00,\n",
       "        2.31027397e+00, 2.81506849e+00, 4.43639726e+02, 4.74178082e+00,\n",
       "        4.65493151e+01, 5.67240411e+02, 1.05742945e+03, 1.03630137e+00,\n",
       "        1.53835616e+00, 9.34931507e-01, 3.68287671e+00, 1.16262671e+03,\n",
       "        3.46992466e+02, 5.84452055e+00, 1.51546370e+03, 4.25342466e-01,\n",
       "        5.75342466e-02, 1.56506849e+00, 3.82876712e-01, 2.86643836e+00,\n",
       "        1.04657534e+00, 2.33972603e+00, 6.51780822e+00, 5.74931507e+00,\n",
       "        6.13013699e-01, 3.80479452e+00, 2.48561644e+00, 1.86868425e+03,\n",
       "        1.28424658e+00, 1.76712329e+00, 4.72980137e+02, 3.92739726e+00,\n",
       "        3.96095890e+00, 1.85616438e+00, 9.42445205e+01, 4.66602740e+01,\n",
       "        2.19541096e+01, 3.40958904e+00, 1.50609589e+01, 2.75890411e+00,\n",
       "        2.99109589e+00, 3.50479452e+00, 3.92260274e+00, 4.34890411e+01,\n",
       "        6.32191781e+00, 2.00781575e+03, 7.51301370e+00, 3.77054795e+00,\n",
       "        1.80921196e+05]))"
      ]
     },
     "execution_count": 23,
     "metadata": {},
     "output_type": "execute_result"
    }
   ],
   "source": [
    "scaler.scale_, scaler.mean_"
   ]
  },
  {
   "cell_type": "code",
   "execution_count": null,
   "metadata": {
    "collapsed": true
   },
   "outputs": [],
   "source": [
    "# from sklearn.pipeline import make_pipeline\n",
    "from sklearn.model_selection import KFold, cross_val_score, train_test_split\n",
    "# from sklearn.metrics import accuracy_score\n",
    "# from sklearn.metrics import mean_absolute_error\n",
    "from sklearn.linear_model import LinearRegression, Lasso, Ridge\n",
    "from sklearn.tree import DecisionTreeRegressor\n",
    "from sklearn.neighbors import KNeighborsRegressor"
   ]
  },
  {
   "cell_type": "code",
   "execution_count": null,
   "metadata": {
    "collapsed": true
   },
   "outputs": [],
   "source": [
    "X = scaled_df\n",
    "y = train['SalePrice'].values\n",
    "y.shape, X.shape"
   ]
  },
  {
   "cell_type": "code",
   "execution_count": null,
   "metadata": {
    "collapsed": true
   },
   "outputs": [],
   "source": [
    "X = train.loc[:, train.columns != 'SalePrice'].values\n",
    "y = train['SalePrice'].values"
   ]
  },
  {
   "cell_type": "code",
   "execution_count": null,
   "metadata": {
    "collapsed": true
   },
   "outputs": [],
   "source": [
    "#about scoring https://scikit-learn.org/stable/modules/model_evaluation.html#scoring-parameter\n",
    "linReg = LinearRegression()\n",
    "scores = cross_val_score(linReg, X, y, scoring='neg_mean_squared_error', cv=5)\n",
    "scores"
   ]
  },
  {
   "cell_type": "code",
   "execution_count": null,
   "metadata": {
    "collapsed": true
   },
   "outputs": [],
   "source": [
    "tree = DecisionTreeRegressor()\n",
    "scores = cross_val_score(tree, X, y, scoring='neg_mean_squared_error', cv=5)\n",
    "scores"
   ]
  },
  {
   "cell_type": "code",
   "execution_count": null,
   "metadata": {
    "collapsed": true
   },
   "outputs": [],
   "source": [
    "knn = KNeighborsRegressor()\n",
    "scores = cross_val_score(knn, X, y, scoring='neg_mean_squared_error', cv=5)\n",
    "scores"
   ]
  },
  {
   "cell_type": "markdown",
   "metadata": {},
   "source": [
    "diff linear regretion"
   ]
  },
  {
   "cell_type": "code",
   "execution_count": null,
   "metadata": {
    "collapsed": true
   },
   "outputs": [],
   "source": [
    "linReg = Lasso()\n",
    "scores = cross_val_score(linReg, X, y, scoring='neg_mean_squared_error', cv=5)\n",
    "scores"
   ]
  },
  {
   "cell_type": "code",
   "execution_count": null,
   "metadata": {
    "collapsed": true
   },
   "outputs": [],
   "source": [
    "linReg = Ridge()\n",
    "scores = cross_val_score(linReg, X, y, scoring='neg_mean_squared_error', cv=5)\n",
    "scores"
   ]
  },
  {
   "cell_type": "markdown",
   "metadata": {},
   "source": [
    "work with desition tree"
   ]
  },
  {
   "cell_type": "code",
   "execution_count": null,
   "metadata": {
    "collapsed": true
   },
   "outputs": [],
   "source": [
    "#переобучен\n",
    "tree = DecisionTreeRegressor()\n",
    "scores = cross_val_score(tree, X, y, scoring='neg_mean_squared_error', cv=5)\n",
    "scores"
   ]
  },
  {
   "cell_type": "code",
   "execution_count": null,
   "metadata": {
    "collapsed": true
   },
   "outputs": [],
   "source": [
    "tree = DecisionTreeRegressor(max_depth=5)\n",
    "scores = cross_val_score(tree, X, y, scoring='neg_mean_squared_error', cv=5)\n",
    "scores"
   ]
  },
  {
   "cell_type": "code",
   "execution_count": null,
   "metadata": {
    "collapsed": true
   },
   "outputs": [],
   "source": [
    "#недообучен\n",
    "tree = DecisionTreeRegressor(max_depth=2)\n",
    "scores = cross_val_score(tree, X, y, scoring='neg_mean_squared_error', cv=5)\n",
    "scores"
   ]
  },
  {
   "cell_type": "markdown",
   "metadata": {},
   "source": [
    "примеры недообучения и переобучения"
   ]
  },
  {
   "cell_type": "code",
   "execution_count": null,
   "metadata": {
    "collapsed": true
   },
   "outputs": [],
   "source": [
    "test_part_X = X[1000:]\n",
    "train_part_X = X[:1000]\n",
    "test_part_y = y[1000:]\n",
    "train_part_y = y[:1000]"
   ]
  },
  {
   "cell_type": "code",
   "execution_count": null,
   "metadata": {
    "collapsed": true
   },
   "outputs": [],
   "source": [
    "test_errors = []\n",
    "train_errors = []\n",
    "\n",
    "for i in range(1, 100):\n",
    "    tree = DecisionTreeRegressor(max_depth=i)\n",
    "    tree.fit(train_part_X, train_part_y)\n",
    "    train_errors.append(tree.score(train_part_X, train_part_y))\n",
    "    test_errors.append(tree.score(test_part_X, test_part_y))\n"
   ]
  },
  {
   "cell_type": "code",
   "execution_count": null,
   "metadata": {
    "collapsed": true
   },
   "outputs": [],
   "source": [
    "plt.plot(train_errors, label=\"train\")\n",
    "plt.plot(test_errors, label=\"test\")\n",
    "plt.legend()"
   ]
  }
 ],
 "metadata": {
  "kernelspec": {
   "display_name": "Python 3",
   "language": "python",
   "name": "python3"
  },
  "language_info": {
   "codemirror_mode": {
    "name": "ipython",
    "version": 3
   },
   "file_extension": ".py",
   "mimetype": "text/x-python",
   "name": "python",
   "nbconvert_exporter": "python",
   "pygments_lexer": "ipython3",
   "version": "3.6.9"
  }
 },
 "nbformat": 4,
 "nbformat_minor": 2
}
