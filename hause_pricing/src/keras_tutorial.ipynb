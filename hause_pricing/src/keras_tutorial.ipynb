{
 "cells": [
  {
   "cell_type": "code",
   "execution_count": null,
   "metadata": {},
   "outputs": [],
   "source": [
    "import pandas as pd\n",
    "import tensorflow as tf\n",
    "import numpy as np"
   ]
  },
  {
   "cell_type": "code",
   "execution_count": null,
   "metadata": {},
   "outputs": [],
   "source": [
    "train = pd.read_csv(\"../data/train.csv\")"
   ]
  },
  {
   "cell_type": "code",
   "execution_count": null,
   "metadata": {},
   "outputs": [],
   "source": [
    "train.head()"
   ]
  },
  {
   "cell_type": "code",
   "execution_count": null,
   "metadata": {},
   "outputs": [],
   "source": [
    "train.info()"
   ]
  },
  {
   "cell_type": "code",
   "execution_count": null,
   "metadata": {},
   "outputs": [],
   "source": [
    "for var_name in train.select_dtypes(include=['object']):\n",
    "    train[var_name] = pd.Categorical(train[var_name])\n",
    "    train[var_name] = train[var_name].cat.codes"
   ]
  },
  {
   "cell_type": "code",
   "execution_count": null,
   "metadata": {},
   "outputs": [],
   "source": [
    "train.head()"
   ]
  },
  {
   "cell_type": "code",
   "execution_count": null,
   "metadata": {},
   "outputs": [],
   "source": [
    "target = train.pop('SalePrice')"
   ]
  },
  {
   "cell_type": "code",
   "execution_count": null,
   "metadata": {},
   "outputs": [],
   "source": [
    "dataset = tf.data.Dataset.from_tensor_slices((train.values, target.values))"
   ]
  },
  {
   "cell_type": "code",
   "execution_count": null,
   "metadata": {},
   "outputs": [],
   "source": [
    "for feat, targ in dataset.take(2):\n",
    "    print ('Features: {}, Target: {}'.format(feat, targ))"
   ]
  },
  {
   "cell_type": "code",
   "execution_count": null,
   "metadata": {},
   "outputs": [],
   "source": [
    "train_dataset = dataset.shuffle(len(train)).batch(1)"
   ]
  },
  {
   "cell_type": "code",
   "execution_count": null,
   "metadata": {},
   "outputs": [],
   "source": [
    "model_linear = tf.keras.Sequential()\n",
    "model_linear.add(tf.keras.layers.Dense(10, activation='relu'))\n",
    "model_linear.add(tf.keras.layers.Dropout(rate = 0.1))\n",
    "model_linear.add(tf.keras.layers.Dense(10, activation='relu'))\n",
    "model_linear.add(tf.keras.layers.Dense(1, activation='linear'))\n",
    "\n",
    "model_linear.compile(optimizer='adam',\n",
    "              loss='mse',\n",
    "              metrics=['mse'])"
   ]
  },
  {
   "cell_type": "code",
   "execution_count": null,
   "metadata": {},
   "outputs": [],
   "source": [
    "model_linear.fit(train_dataset, epochs=15)"
   ]
  },
  {
   "cell_type": "code",
   "execution_count": null,
   "metadata": {},
   "outputs": [],
   "source": [
    "model_cnn = tf.keras.Sequential()\n",
    "model_cnn.add(tf.keras.layers.Dense(10, activation='relu'))\n",
    "model_cnn.add(tf.keras.layers.Reshape((10,1)))\n",
    "model_cnn.add(tf.keras.layers.Conv1D(10, 3))\n",
    "model_cnn.add(tf.keras.layers.Dropout(rate = 0.1))\n",
    "model_cnn.add(tf.keras.layers.Flatten())\n",
    "model_cnn.add(tf.keras.layers.Dense(1, activation='linear'))\n",
    "\n",
    "model_cnn.compile(optimizer='adam',\n",
    "              loss='mse',\n",
    "              metrics=['mse'])"
   ]
  },
  {
   "cell_type": "code",
   "execution_count": null,
   "metadata": {},
   "outputs": [],
   "source": [
    "model_cnn.fit(train_dataset, epochs=15)"
   ]
  },
  {
   "cell_type": "code",
   "execution_count": null,
   "metadata": {},
   "outputs": [],
   "source": [
    "from tensorflow.keras import layers"
   ]
  },
  {
   "cell_type": "code",
   "execution_count": null,
   "metadata": {},
   "outputs": [],
   "source": [
    "inputs = tf.keras.Input(shape=(80,))  \n",
    "\n",
    "x = layers.Dense(64, activation='relu')(inputs)\n",
    "x = layers.Dense(64, activation='relu')(x)\n",
    "predictions = layers.Dense(1, activation='linear')(x)"
   ]
  },
  {
   "cell_type": "code",
   "execution_count": null,
   "metadata": {},
   "outputs": [],
   "source": [
    "model_builded = tf.keras.Model(inputs=inputs, outputs=predictions)\n",
    "\n",
    "# The compile step specifies the training configuration.\n",
    "model_builded.compile(optimizer=tf.keras.optimizers.RMSprop(0.001),\n",
    "              loss='mse',\n",
    "              metrics=['mse'])\n",
    "\n",
    "# Trains for 5 epochs\n",
    "model_builded.fit(train_dataset, epochs=5)"
   ]
  },
  {
   "cell_type": "markdown",
   "metadata": {},
   "source": [
    "for rnn"
   ]
  },
  {
   "cell_type": "code",
   "execution_count": null,
   "metadata": {},
   "outputs": [],
   "source": [
    "def prepare_data_for_rnn(data, window=10):\n",
    "    size = (data.shape[0]-window, window, data.shape[1])\n",
    "    res = np.zeros(size)\n",
    "    for i in range(window, len(data)):\n",
    "        res[i-window] = data[i-window:i]\n",
    "    return res\n",
    "\n",
    "def prepare_target_for_rnn(data, window=10):\n",
    "    size = (data.shape[0]-window, window, 1)\n",
    "    res = np.zeros(size)\n",
    "    for i in range(window, len(data)):\n",
    "        res[i-window] = data[i-window:i].reshape(window, 1)\n",
    "    return res\n"
   ]
  },
  {
   "cell_type": "code",
   "execution_count": null,
   "metadata": {},
   "outputs": [],
   "source": [
    "train.values.shape, target.values.shape"
   ]
  },
  {
   "cell_type": "code",
   "execution_count": null,
   "metadata": {},
   "outputs": [],
   "source": [
    "train_for_rnn = prepare_data_for_rnn(train.values)\n",
    "target_for_rnn = prepare_target_for_rnn(target.values)"
   ]
  },
  {
   "cell_type": "code",
   "execution_count": null,
   "metadata": {},
   "outputs": [],
   "source": [
    "train_for_rnn.shape, target_for_rnn.shape"
   ]
  },
  {
   "cell_type": "code",
   "execution_count": null,
   "metadata": {},
   "outputs": [],
   "source": [
    "dataset_for_rnn = tf.data.Dataset.from_tensor_slices((train_for_rnn, target_for_rnn))\n",
    "dataset_for_rnn = dataset_for_rnn.batch(1)"
   ]
  },
  {
   "cell_type": "code",
   "execution_count": null,
   "metadata": {},
   "outputs": [],
   "source": [
    "dataset_for_rnn"
   ]
  },
  {
   "cell_type": "code",
   "execution_count": null,
   "metadata": {},
   "outputs": [],
   "source": [
    "model_rnn = tf.keras.Sequential()\n",
    "model_rnn.add(tf.keras.layers.Dense(10, activation='relu'))\n",
    "model_rnn.add(layers.LSTM(128, return_sequences=True))\n",
    "model_rnn.add(tf.keras.layers.Dense(1, activation='linear'))\n",
    "\n",
    "model_rnn.compile(optimizer='adam',\n",
    "              loss='mse',\n",
    "              metrics=['mse'])"
   ]
  },
  {
   "cell_type": "code",
   "execution_count": null,
   "metadata": {},
   "outputs": [],
   "source": [
    "model_rnn.fit(dataset_for_rnn, epochs=15)"
   ]
  }
 ],
 "metadata": {
  "kernelspec": {
   "display_name": "Python 3",
   "language": "python",
   "name": "python3"
  },
  "language_info": {
   "codemirror_mode": {
    "name": "ipython",
    "version": 3
   },
   "file_extension": ".py",
   "mimetype": "text/x-python",
   "name": "python",
   "nbconvert_exporter": "python",
   "pygments_lexer": "ipython3",
   "version": "3.6.9"
  }
 },
 "nbformat": 4,
 "nbformat_minor": 2
}
